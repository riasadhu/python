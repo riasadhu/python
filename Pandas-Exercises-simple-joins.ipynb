{
 "cells": [
  {
   "cell_type": "markdown",
   "metadata": {},
   "source": [
    "# MPG Cars"
   ]
  },
  {
   "cell_type": "markdown",
   "metadata": {},
   "source": [
    "### Introduction:\n",
    "\n",
    "The following exercise utilizes data from [UC Irvine Machine Learning Repository](https://archive.ics.uci.edu/ml/datasets/Auto+MPG)\n",
    "\n",
    "### Step 1. Import the necessary libraries"
   ]
  },
  {
   "cell_type": "code",
   "execution_count": 2,
   "metadata": {},
   "outputs": [],
   "source": [
    "import numpy as np\n",
    "import pandas as pd\n",
    "import os"
   ]
  },
  {
   "cell_type": "markdown",
   "metadata": {},
   "source": [
    "### Step 2. Import the  datasets [cars1.csv](https://raw.githubusercontent.com/guipsamora/pandas_exercises/master/Merge/Auto_MPG/cars1.csv) and [cars2.csv](https://raw.githubusercontent.com/guipsamora/pandas_exercises/master/Merge/Auto_MPG/cars2.csv) from the folder"
   ]
  },
  {
   "cell_type": "code",
   "execution_count": 6,
   "metadata": {},
   "outputs": [],
   "source": [
    "os.chdir('D:\\\\Ria\\\\Python\\\\analytixlab\\\\2. Pandas Basic Exercises\\\\Exercise Data Files\\\\Pandas Exercise Simple Joins files')\n",
    "car1=pd.read_csv('cars1.csv')\n",
    "car2=pd.read_csv('cars2.csv')"
   ]
  },
  {
   "cell_type": "markdown",
   "metadata": {},
   "source": [
    "   ### Step 3. Assign each to a to a variable called cars1 and cars2"
   ]
  },
  {
   "cell_type": "code",
   "execution_count": 16,
   "metadata": {},
   "outputs": [],
   "source": [
    "cars1=pd.read_csv('cars1.csv')\n",
    "cars2=pd.read_csv('cars2.csv')"
   ]
  },
  {
   "cell_type": "markdown",
   "metadata": {},
   "source": [
    "### Step 4. It seems our first dataset has some unnamed blank columns, fix cars1"
   ]
  },
  {
   "cell_type": "code",
   "execution_count": 22,
   "metadata": {},
   "outputs": [
    {
     "data": {
      "text/plain": [
       "mpg             198\n",
       "cylinders       198\n",
       "displacement    198\n",
       "horsepower      198\n",
       "weight          198\n",
       "acceleration    198\n",
       "model           198\n",
       "origin          198\n",
       "car             198\n",
       "dtype: int64"
      ]
     },
     "execution_count": 22,
     "metadata": {},
     "output_type": "execute_result"
    }
   ],
   "source": [
    "cars1=cars1.dropna(axis=1)\n",
    "cars1.count()"
   ]
  },
  {
   "cell_type": "markdown",
   "metadata": {},
   "source": [
    "### Step 5. What is the number of observations in each dataset?"
   ]
  },
  {
   "cell_type": "code",
   "execution_count": 27,
   "metadata": {},
   "outputs": [
    {
     "name": "stdout",
     "output_type": "stream",
     "text": [
      "cars 1 no of observation 198 cars 2 no of observations 200\n"
     ]
    }
   ],
   "source": [
    "print('cars 1 no of observations {} cars 2 no of observations {}'.format(cars1.shape[0],cars2.shape[0]))"
   ]
  },
  {
   "cell_type": "markdown",
   "metadata": {},
   "source": [
    "### Step 6. Join cars1 and cars2 into a single DataFrame called cars"
   ]
  },
  {
   "cell_type": "code",
   "execution_count": 34,
   "metadata": {},
   "outputs": [],
   "source": [
    "cars=pd.concat([cars1,cars2])"
   ]
  },
  {
   "cell_type": "markdown",
   "metadata": {},
   "source": [
    "### Step 7. There is a column missing, called owners. Create a random number Series from 15,000 to 73,000."
   ]
  },
  {
   "cell_type": "code",
   "execution_count": 36,
   "metadata": {},
   "outputs": [],
   "source": [
    "cars['owners']=np.random.randint(15000,73000,cars.shape[0])"
   ]
  },
  {
   "cell_type": "markdown",
   "metadata": {},
   "source": [
    "### Step 8. Add the column owners to cars"
   ]
  },
  {
   "cell_type": "code",
   "execution_count": 37,
   "metadata": {},
   "outputs": [
    {
     "data": {
      "text/plain": [
       "0      40782\n",
       "1      43798\n",
       "2      16011\n",
       "3      16043\n",
       "4      27235\n",
       "5      28882\n",
       "6      39535\n",
       "7      33009\n",
       "8      15623\n",
       "9      57207\n",
       "10     33617\n",
       "11     49180\n",
       "12     19874\n",
       "13     44798\n",
       "14     21073\n",
       "15     72839\n",
       "16     48875\n",
       "17     38000\n",
       "18     69352\n",
       "19     37157\n",
       "20     55278\n",
       "21     30159\n",
       "22     23048\n",
       "23     66529\n",
       "24     18397\n",
       "25     48362\n",
       "26     27453\n",
       "27     59775\n",
       "28     46912\n",
       "29     53601\n",
       "       ...  \n",
       "170    45689\n",
       "171    48623\n",
       "172    44588\n",
       "173    42229\n",
       "174    62337\n",
       "175    58731\n",
       "176    35756\n",
       "177    65503\n",
       "178    66636\n",
       "179    46547\n",
       "180    34621\n",
       "181    58709\n",
       "182    41475\n",
       "183    68317\n",
       "184    41163\n",
       "185    48116\n",
       "186    63280\n",
       "187    19059\n",
       "188    40059\n",
       "189    59858\n",
       "190    65552\n",
       "191    26151\n",
       "192    45165\n",
       "193    41681\n",
       "194    64370\n",
       "195    55610\n",
       "196    46846\n",
       "197    53176\n",
       "198    48965\n",
       "199    31500\n",
       "Name: owners, Length: 398, dtype: int32"
      ]
     },
     "execution_count": 37,
     "metadata": {},
     "output_type": "execute_result"
    }
   ],
   "source": [
    "cars['owners']"
   ]
  },
  {
   "cell_type": "code",
   "execution_count": null,
   "metadata": {},
   "outputs": [],
   "source": []
  }
 ],
 "metadata": {
  "anaconda-cloud": {},
  "kernelspec": {
   "display_name": "Python 3",
   "language": "python",
   "name": "python3"
  },
  "language_info": {
   "codemirror_mode": {
    "name": "ipython",
    "version": 3
   },
   "file_extension": ".py",
   "mimetype": "text/x-python",
   "name": "python",
   "nbconvert_exporter": "python",
   "pygments_lexer": "ipython3",
   "version": "3.7.1"
  }
 },
 "nbformat": 4,
 "nbformat_minor": 1
}
