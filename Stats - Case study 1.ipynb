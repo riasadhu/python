{
 "cells": [
  {
   "cell_type": "code",
   "execution_count": 1,
   "metadata": {},
   "outputs": [
    {
     "name": "stdout",
     "output_type": "stream",
     "text": [
      "D:\\Ria\\Python\\analytixlab\\7. Basic Stats - Case Study-1\\7. Basic Stats - Case Study-1\n"
     ]
    }
   ],
   "source": [
    "cd \"D:\\\\Ria\\\\Python\\\\analytixlab\\\\7. Basic Stats - Case Study-1\\\\7. Basic Stats - Case Study-1\""
   ]
  },
  {
   "cell_type": "code",
   "execution_count": 2,
   "metadata": {},
   "outputs": [],
   "source": [
    "import pandas as pd"
   ]
  },
  {
   "cell_type": "code",
   "execution_count": 3,
   "metadata": {},
   "outputs": [],
   "source": [
    "# Import datasets\n",
    "dietstudy=pd.read_csv(\"dietstudy.csv\")\n",
    "creditpromo=pd.read_csv(\"creditpromo.csv\")\n",
    "pollination=pd.read_csv(\"pollination.csv\")\n",
    "dvdplayer=pd.read_csv(\"dvdplayer.csv\")\n",
    "sample_survey=pd.read_csv(\"sample_survey.csv\")"
   ]
  },
  {
   "cell_type": "code",
   "execution_count": 7,
   "metadata": {},
   "outputs": [
    {
     "data": {
      "text/plain": [
       "New Promotion    250\n",
       "Standard         250\n",
       "Name: insert, dtype: int64"
      ]
     },
     "execution_count": 7,
     "metadata": {},
     "output_type": "execute_result"
    }
   ],
   "source": [
    "creditpromo['insert'].value_counts()"
   ]
  },
  {
   "cell_type": "markdown",
   "metadata": {},
   "source": [
    "## Before and after study of diet on weights and triglyceride levels of 16 patients\n",
    "\n",
    "## Paired t test\n",
    "\n",
    "###### null hypothesis 1: The new diet has no impact on triglyceride or the mean of the difference of triglyceride of patients equals zero\n",
    "###### null hypothesis 2: The new diet has no impact on weights or the mean of the difference of weights of patients equals zero\n"
   ]
  },
  {
   "cell_type": "code",
   "execution_count": 5,
   "metadata": {},
   "outputs": [],
   "source": [
    "from scipy import stats"
   ]
  },
  {
   "cell_type": "code",
   "execution_count": 78,
   "metadata": {},
   "outputs": [
    {
     "data": {
      "text/plain": [
       "Ttest_relResult(statistic=1.2043089238053295, pvalue=0.2471298502503435)"
      ]
     },
     "execution_count": 78,
     "metadata": {},
     "output_type": "execute_result"
    }
   ],
   "source": [
    "# Null hypothesis the new diet has not impacted the leveL of triglyceride\n",
    "# conclusion : There is no sample  evidence to conclude that new diet has decreased levels of triglyceride.We believe that the new diet has not imapcted on triglyceride levels. \n",
    "stats.ttest_rel(dietstudy['tg0'],dietstudy['tg4'],nan_policy='propagate')\n"
   ]
  },
  {
   "cell_type": "code",
   "execution_count": 79,
   "metadata": {},
   "outputs": [
    {
     "data": {
      "text/plain": [
       "Ttest_relResult(statistic=11.12229825099219, pvalue=1.2118378978233194e-08)"
      ]
     },
     "execution_count": 79,
     "metadata": {},
     "output_type": "execute_result"
    }
   ],
   "source": [
    "# Null hypothesis the new diet has not impacted the leveL of triglyceride\n",
    "# conclusion : The new diet has decreased the weights of the patients\n",
    "stats.ttest_rel(dietstudy['wgt0'],dietstudy['wgt4'],nan_policy='propagate')"
   ]
  },
  {
   "cell_type": "markdown",
   "metadata": {},
   "source": [
    "## New promotion increased the Sales"
   ]
  },
  {
   "cell_type": "code",
   "execution_count": 21,
   "metadata": {},
   "outputs": [
    {
     "data": {
      "text/plain": [
       "Index(['id', 'insert', 'dollars'], dtype='object')"
      ]
     },
     "execution_count": 21,
     "metadata": {},
     "output_type": "execute_result"
    }
   ],
   "source": [
    "creditpromo.columns"
   ]
  },
  {
   "cell_type": "code",
   "execution_count": 28,
   "metadata": {},
   "outputs": [
    {
     "data": {
      "text/plain": [
       "Ttest_indResult(statistic=-2.2604227264649963, pvalue=0.024225996894147814)"
      ]
     },
     "execution_count": 28,
     "metadata": {},
     "output_type": "execute_result"
    }
   ],
   "source": [
    "# Null hypothesis : Mean sales using standard promotion is greater than or equal to Mean sales using new promotion\n",
    "# Alternate hypothesis : Mean sales using standard promotion is less than  Mean sales using new promotion\n",
    "stats.ttest_ind(creditpromo[creditpromo['insert']=='Standard']['dollars'],creditpromo[creditpromo['insert']=='New Promotion']['dollars'])\n",
    "# take level of significance 0.05\n",
    "#conclusion : since pvalue < 0.05 we will reject null hypothesis and state that new promotion has increased Sales"
   ]
  },
  {
   "cell_type": "markdown",
   "metadata": {},
   "source": [
    "# 3 a)Is the overall population of Seed yield/plant (g) equals to 200\n",
    "#   b)Test whether the natural pollination and hand pollination under open field conditions are equally effective or are significantly different. \n",
    " \n"
   ]
  },
  {
   "cell_type": "code",
   "execution_count": 33,
   "metadata": {},
   "outputs": [
    {
     "data": {
      "text/plain": [
       "Ttest_1sampResult(statistic=-2.3009121248548645, pvalue=0.032891040921283025)"
      ]
     },
     "execution_count": 33,
     "metadata": {},
     "output_type": "execute_result"
    }
   ],
   "source": [
    "# Null hypothesis is overall population of Seed yield/plant (g) equals to 200\n",
    "stats.ttest_1samp(pollination['Seed_Yield_Plant'],200)\n",
    "#conclusion : Since pvalue<l.o.s=0.05,we reject null hypothesis and conclude that we have statistical evidence that overall population of Seed yield/plant (g) doesnot equals to 200 "
   ]
  },
  {
   "cell_type": "code",
   "execution_count": 37,
   "metadata": {},
   "outputs": [
    {
     "data": {
      "text/plain": [
       "Ttest_indResult(statistic=-2.542229999657055, pvalue=0.020428817064110226)"
      ]
     },
     "execution_count": 37,
     "metadata": {},
     "output_type": "execute_result"
    }
   ],
   "source": [
    "#b) Null hypothesis 1:  The type of pollination doesnot impact Fruit_Wt\n",
    "#Null hypothesis 2:  The type of pollination doesnot impact Seed_Yield_Plant\n",
    "#Null hypothesis 3:  The type of pollination doesnot impact Seedling_length\n",
    "\n",
    "stats.ttest_ind(pollination[pollination['Group']=='Natural']['Fruit_Wt'],pollination[pollination['Group']=='Hand']['Fruit_Wt'])\n",
    "stats.ttest_ind(pollination[pollination['Group']=='Natural']['Seed_Yield_Plant'],pollination[pollination['Group']=='Hand']['Seed_Yield_Plant'])\n",
    "stats.ttest_ind(pollination[pollination['Group']=='Natural']['Seedling_length'],pollination[pollination['Group']=='Hand']['Seedling_length'])\n",
    "\n",
    "# Conclusion :natural pollination and hand pollination under open field conditions are significantly different"
   ]
  },
  {
   "cell_type": "code",
   "execution_count": 38,
   "metadata": {},
   "outputs": [
    {
     "data": {
      "text/plain": [
       "Group\n",
       "Hand       2.566\n",
       "Natural    1.848\n",
       "Name: Fruit_Wt, dtype: float64"
      ]
     },
     "execution_count": 38,
     "metadata": {},
     "output_type": "execute_result"
    }
   ],
   "source": [
    "# Sample means of Fruit Weight of 2 types of Pollination \n",
    "pollination.groupby('Group')['Fruit_Wt'].mean()"
   ]
  },
  {
   "cell_type": "code",
   "execution_count": 39,
   "metadata": {},
   "outputs": [
    {
     "data": {
      "text/plain": [
       "Group\n",
       "Hand       215.598\n",
       "Natural    146.009\n",
       "Name: Seed_Yield_Plant, dtype: float64"
      ]
     },
     "execution_count": 39,
     "metadata": {},
     "output_type": "execute_result"
    }
   ],
   "source": [
    "# Sample means of Seed_Yield_Plant  of 2 types of Pollination \n",
    "pollination.groupby('Group')['Seed_Yield_Plant'].mean()"
   ]
  },
  {
   "cell_type": "code",
   "execution_count": 40,
   "metadata": {},
   "outputs": [
    {
     "data": {
      "text/plain": [
       "Group\n",
       "Hand       18.590\n",
       "Natural    17.707\n",
       "Name: Seedling_length, dtype: float64"
      ]
     },
     "execution_count": 40,
     "metadata": {},
     "output_type": "execute_result"
    }
   ],
   "source": [
    "# Sample means of Seedling_length of 2 types of Pollination \n",
    "pollination.groupby('Group')['Seedling_length'].mean()"
   ]
  },
  {
   "cell_type": "code",
   "execution_count": 41,
   "metadata": {},
   "outputs": [],
   "source": [
    "# We conclude based on sample results : Hand Pollination is better than natural pollination"
   ]
  },
  {
   "cell_type": "markdown",
   "metadata": {},
   "source": [
    "# 4 : Age groups have a impact on Dvd Score"
   ]
  },
  {
   "cell_type": "code",
   "execution_count": 47,
   "metadata": {},
   "outputs": [
    {
     "data": {
      "text/plain": [
       "F_onewayResult(statistic=6.992526962676517, pvalue=3.087324905679639e-05)"
      ]
     },
     "execution_count": 47,
     "metadata": {},
     "output_type": "execute_result"
    }
   ],
   "source": [
    "# null hypothesis: Age groups have no impact on the Dvd score\n",
    "agegroups=dvdplayer['agegroup'].unique()\n",
    "stats.f_oneway(dvdplayer[dvdplayer['agegroup'] == agegroups[0]]['dvdscore'],\n",
    "               dvdplayer[dvdplayer['agegroup']  == agegroups[1]]['dvdscore'],\n",
    "               dvdplayer[dvdplayer['agegroup']  == agegroups[2]]['dvdscore'],\n",
    "               dvdplayer[dvdplayer['agegroup']  == agegroups[3]]['dvdscore'],\n",
    "               dvdplayer[dvdplayer['agegroup']  == agegroups[4]]['dvdscore'],\n",
    "              dvdplayer[dvdplayer['agegroup']  == agegroups[5]]['dvdscore'])\n",
    "# conclusion : Atleast one of the pop means of dvdscore of one age group is significantly different from other age group "
   ]
  },
  {
   "cell_type": "markdown",
   "metadata": {},
   "source": [
    "# labour status independent of marital status\n"
   ]
  },
  {
   "cell_type": "code",
   "execution_count": 54,
   "metadata": {},
   "outputs": [
    {
     "data": {
      "text/plain": [
       "(729.2421426572284,\n",
       " 1.4875268409067568e-135,\n",
       " 28,\n",
       " array([[ 51.69187279, 155.8869258 ,  76.84240283,  10.77879859,\n",
       "          32.8       ],\n",
       "        [  8.51024735,  25.66431095,  12.65088339,   1.7745583 ,\n",
       "           5.4       ],\n",
       "        [ 62.09328622, 187.25441696,  92.30459364,  12.94770318,\n",
       "          39.4       ],\n",
       "        [ 12.45017668,  37.5459364 ,  18.50777385,   2.59611307,\n",
       "           7.9       ],\n",
       "        [  7.24946996,  21.86219081,  10.77667845,   1.51166078,\n",
       "           4.6       ],\n",
       "        [  9.14063604,  27.56537102,  13.58798587,   1.90600707,\n",
       "           5.8       ],\n",
       "        [246.95477032, 744.74028269, 367.10989399,  51.495053  ,\n",
       "         156.7       ],\n",
       "        [ 47.90954064, 144.48056537,  71.21978799,   9.99010601,\n",
       "          30.4       ]]))"
      ]
     },
     "execution_count": 54,
     "metadata": {},
     "output_type": "execute_result"
    }
   ],
   "source": [
    "stats.chi2_contingency(pd.crosstab(index=sample_survey.wrkstat,columns=sample_survey.marital).values)\n",
    "#conclusion:Labour status is dependent on marital status"
   ]
  },
  {
   "cell_type": "code",
   "execution_count": 56,
   "metadata": {},
   "outputs": [],
   "source": [
    "# educational degree is independent of marital status or not?"
   ]
  },
  {
   "cell_type": "code",
   "execution_count": 58,
   "metadata": {},
   "outputs": [
    {
     "data": {
      "text/plain": [
       "(122.68449020508541,\n",
       " 1.6707923432360119e-18,\n",
       " 16,\n",
       " array([[ 75.06345268, 227.39312301, 111.83268345,  15.75824176,\n",
       "          47.95249911],\n",
       "        [ 32.19248493,  97.52215526,  47.9617157 ,   6.75824176,\n",
       "          20.56540234],\n",
       "        [235.55476781, 713.57674583, 350.9393832 ,  49.45054945,\n",
       "         150.4785537 ],\n",
       "        [ 32.66359447,  98.94930876,  48.66359447,   6.85714286,\n",
       "          20.86635945],\n",
       "        [ 67.52570011, 204.55866714, 100.60262318,  14.17582418,\n",
       "          43.1371854 ]]))"
      ]
     },
     "execution_count": 58,
     "metadata": {},
     "output_type": "execute_result"
    }
   ],
   "source": [
    "stats.chi2_contingency(pd.crosstab(index=sample_survey.degree,columns=sample_survey.marital).values)\n",
    "#conclusion:educational degree is dependent on marital status"
   ]
  },
  {
   "cell_type": "code",
   "execution_count": 6,
   "metadata": {},
   "outputs": [
    {
     "data": {
      "text/plain": [
       "(260.6894389418282,\n",
       " 9.3147261197964e-52,\n",
       " 8,\n",
       " array([[ 53.6969697 , 162.06060606,  79.27272727,  11.15151515,\n",
       "          33.81818182],\n",
       "        [248.58538324, 750.24527629, 366.98609626,  51.62495544,\n",
       "         156.55828877],\n",
       "        [140.71764706, 424.69411765, 207.74117647,  29.22352941,\n",
       "          88.62352941]]))"
      ]
     },
     "execution_count": 6,
     "metadata": {},
     "output_type": "execute_result"
    }
   ],
   "source": [
    "# happy status or income group is independent of maritus status \n",
    "stats.chi2_contingency(pd.crosstab(index=sample_survey.happy,columns=sample_survey.marital).values)\n",
    "#conclusion:happy status is dependent on marital status"
   ]
  },
  {
   "cell_type": "code",
   "execution_count": 60,
   "metadata": {},
   "outputs": [
    {
     "data": {
      "text/plain": [
       "(521.3728471696255,\n",
       " 7.108618170303209e-83,\n",
       " 44,\n",
       " array([[  5.17985612,  15.34772182,   7.66107114,   1.0871303 ,\n",
       "           2.72422062],\n",
       "        [ 30.91726619,  91.60671463,  45.72701839,   6.48880895,\n",
       "          16.26019185],\n",
       "        [ 28.97482014,  85.85131894,  42.85411671,   6.08113509,\n",
       "          15.23860911],\n",
       "        [ 39.98201439, 118.46522782,  59.13389289,   8.39128697,\n",
       "          21.02757794],\n",
       "        [256.88848921, 761.15107914, 379.941247  ,  53.91486811,\n",
       "         135.10431655],\n",
       "        [  3.88489209,  11.51079137,   5.74580336,   0.81534772,\n",
       "           2.04316547],\n",
       "        [  5.17985612,  15.34772182,   7.66107114,   1.0871303 ,\n",
       "           2.72422062],\n",
       "        [  5.66546763,  16.78657074,   8.37929656,   1.18904876,\n",
       "           2.97961631],\n",
       "        [  5.34172662,  15.82733813,   7.90047962,   1.12110312,\n",
       "           2.80935252],\n",
       "        [  7.60791367,  22.54196643,  11.25219824,   1.59672262,\n",
       "           4.00119904],\n",
       "        [  9.55035971,  28.29736211,  14.12509992,   2.00439648,\n",
       "           5.02278177],\n",
       "        [  5.82733813,  17.26618705,   8.61870504,   1.22302158,\n",
       "           3.0647482 ]]))"
      ]
     },
     "execution_count": 60,
     "metadata": {},
     "output_type": "execute_result"
    }
   ],
   "source": [
    "stats.chi2_contingency(pd.crosstab(index=sample_survey.income,columns=sample_survey.marital).values)\n",
    "#conclusion:income group is dependent on marital status"
   ]
  },
  {
   "cell_type": "code",
   "execution_count": 7,
   "metadata": {},
   "outputs": [
    {
     "data": {
      "text/html": [
       "<div>\n",
       "<style scoped>\n",
       "    .dataframe tbody tr th:only-of-type {\n",
       "        vertical-align: middle;\n",
       "    }\n",
       "\n",
       "    .dataframe tbody tr th {\n",
       "        vertical-align: top;\n",
       "    }\n",
       "\n",
       "    .dataframe thead th {\n",
       "        text-align: right;\n",
       "    }\n",
       "</style>\n",
       "<table border=\"1\" class=\"dataframe\">\n",
       "  <thead>\n",
       "    <tr style=\"text-align: right;\">\n",
       "      <th>marital</th>\n",
       "      <th>Divorced</th>\n",
       "      <th>Married</th>\n",
       "      <th>Never married</th>\n",
       "      <th>Separated</th>\n",
       "      <th>Widowed</th>\n",
       "    </tr>\n",
       "    <tr>\n",
       "      <th>happy</th>\n",
       "      <th></th>\n",
       "      <th></th>\n",
       "      <th></th>\n",
       "      <th></th>\n",
       "      <th></th>\n",
       "    </tr>\n",
       "  </thead>\n",
       "  <tbody>\n",
       "    <tr>\n",
       "      <th>Not too happy</th>\n",
       "      <td>72</td>\n",
       "      <td>71</td>\n",
       "      <td>108</td>\n",
       "      <td>30</td>\n",
       "      <td>59</td>\n",
       "    </tr>\n",
       "    <tr>\n",
       "      <th>Pretty happy</th>\n",
       "      <td>278</td>\n",
       "      <td>684</td>\n",
       "      <td>426</td>\n",
       "      <td>49</td>\n",
       "      <td>137</td>\n",
       "    </tr>\n",
       "    <tr>\n",
       "      <th>Very happy</th>\n",
       "      <td>93</td>\n",
       "      <td>582</td>\n",
       "      <td>120</td>\n",
       "      <td>13</td>\n",
       "      <td>83</td>\n",
       "    </tr>\n",
       "  </tbody>\n",
       "</table>\n",
       "</div>"
      ],
      "text/plain": [
       "marital        Divorced  Married  Never married  Separated  Widowed\n",
       "happy                                                              \n",
       "Not too happy        72       71            108         30       59\n",
       "Pretty happy        278      684            426         49      137\n",
       "Very happy           93      582            120         13       83"
      ]
     },
     "execution_count": 7,
     "metadata": {},
     "output_type": "execute_result"
    }
   ],
   "source": []
  },
  {
   "cell_type": "code",
   "execution_count": null,
   "metadata": {},
   "outputs": [],
   "source": []
  }
 ],
 "metadata": {
  "kernelspec": {
   "display_name": "Python 3",
   "language": "python",
   "name": "python3"
  },
  "language_info": {
   "codemirror_mode": {
    "name": "ipython",
    "version": 3
   },
   "file_extension": ".py",
   "mimetype": "text/x-python",
   "name": "python",
   "nbconvert_exporter": "python",
   "pygments_lexer": "ipython3",
   "version": "3.7.1"
  }
 },
 "nbformat": 4,
 "nbformat_minor": 2
}
